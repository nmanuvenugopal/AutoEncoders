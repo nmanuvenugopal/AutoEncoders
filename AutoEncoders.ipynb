{
 "cells": [
  {
   "cell_type": "code",
   "execution_count": 16,
   "id": "a8e8357b",
   "metadata": {},
   "outputs": [],
   "source": [
    "import numpy as np\n",
    "import pandas as pd\n",
    "import seaborn as sns\n",
    "import matplotlib.pyplot as plt\n",
    "from matplotlib.image import imread"
   ]
  },
  {
   "cell_type": "code",
   "execution_count": 17,
   "id": "12aed7a5",
   "metadata": {},
   "outputs": [],
   "source": [
    "from tensorflow.keras.datasets import mnist"
   ]
  },
  {
   "cell_type": "code",
   "execution_count": 18,
   "id": "53c3f62b",
   "metadata": {},
   "outputs": [],
   "source": [
    "(X_train, y_train), (X_test, y_test) = mnist.load_data()"
   ]
  },
  {
   "cell_type": "code",
   "execution_count": 19,
   "id": "df95bd0b",
   "metadata": {},
   "outputs": [
    {
     "data": {
      "text/plain": [
       "array([[  0,   0,   0,   0,   0,   0,   0,   0,   0,   0,   0,   0,   0,\n",
       "          0,   0,   0,   0,   0,   0,   0,   0,   0,   0,   0,   0,   0,\n",
       "          0,   0],\n",
       "       [  0,   0,   0,   0,   0,   0,   0,   0,   0,   0,   0,   0,   0,\n",
       "          0,   0,   0,   0,   0,   0,   0,   0,   0,   0,   0,   0,   0,\n",
       "          0,   0],\n",
       "       [  0,   0,   0,   0,   0,   0,   0,   0,   0,   0,   0,   0,   0,\n",
       "          0,   0,   0,   0,   0,   0,   0,   0,   0,   0,   0,   0,   0,\n",
       "          0,   0],\n",
       "       [  0,   0,   0,   0,   0,   0,   0,   0,   0,   0,   0,   0,   0,\n",
       "          0,   0,   0,   0,   0,   0,   0,   0,   0,   0,   0,   0,   0,\n",
       "          0,   0],\n",
       "       [  0,   0,   0,   0,   0,   0,   0,   0,   0,   0,   0,   0,   0,\n",
       "          0,   0,   0,   0,   0,   0,   0,   0,   0,   0,   0,   0,   0,\n",
       "          0,   0],\n",
       "       [  0,   0,   0,   0,   0,   0,   0,   0,   0,   0,   0,   0,   3,\n",
       "         18,  18,  18, 126, 136, 175,  26, 166, 255, 247, 127,   0,   0,\n",
       "          0,   0],\n",
       "       [  0,   0,   0,   0,   0,   0,   0,   0,  30,  36,  94, 154, 170,\n",
       "        253, 253, 253, 253, 253, 225, 172, 253, 242, 195,  64,   0,   0,\n",
       "          0,   0],\n",
       "       [  0,   0,   0,   0,   0,   0,   0,  49, 238, 253, 253, 253, 253,\n",
       "        253, 253, 253, 253, 251,  93,  82,  82,  56,  39,   0,   0,   0,\n",
       "          0,   0],\n",
       "       [  0,   0,   0,   0,   0,   0,   0,  18, 219, 253, 253, 253, 253,\n",
       "        253, 198, 182, 247, 241,   0,   0,   0,   0,   0,   0,   0,   0,\n",
       "          0,   0],\n",
       "       [  0,   0,   0,   0,   0,   0,   0,   0,  80, 156, 107, 253, 253,\n",
       "        205,  11,   0,  43, 154,   0,   0,   0,   0,   0,   0,   0,   0,\n",
       "          0,   0],\n",
       "       [  0,   0,   0,   0,   0,   0,   0,   0,   0,  14,   1, 154, 253,\n",
       "         90,   0,   0,   0,   0,   0,   0,   0,   0,   0,   0,   0,   0,\n",
       "          0,   0],\n",
       "       [  0,   0,   0,   0,   0,   0,   0,   0,   0,   0,   0, 139, 253,\n",
       "        190,   2,   0,   0,   0,   0,   0,   0,   0,   0,   0,   0,   0,\n",
       "          0,   0],\n",
       "       [  0,   0,   0,   0,   0,   0,   0,   0,   0,   0,   0,  11, 190,\n",
       "        253,  70,   0,   0,   0,   0,   0,   0,   0,   0,   0,   0,   0,\n",
       "          0,   0],\n",
       "       [  0,   0,   0,   0,   0,   0,   0,   0,   0,   0,   0,   0,  35,\n",
       "        241, 225, 160, 108,   1,   0,   0,   0,   0,   0,   0,   0,   0,\n",
       "          0,   0],\n",
       "       [  0,   0,   0,   0,   0,   0,   0,   0,   0,   0,   0,   0,   0,\n",
       "         81, 240, 253, 253, 119,  25,   0,   0,   0,   0,   0,   0,   0,\n",
       "          0,   0],\n",
       "       [  0,   0,   0,   0,   0,   0,   0,   0,   0,   0,   0,   0,   0,\n",
       "          0,  45, 186, 253, 253, 150,  27,   0,   0,   0,   0,   0,   0,\n",
       "          0,   0],\n",
       "       [  0,   0,   0,   0,   0,   0,   0,   0,   0,   0,   0,   0,   0,\n",
       "          0,   0,  16,  93, 252, 253, 187,   0,   0,   0,   0,   0,   0,\n",
       "          0,   0],\n",
       "       [  0,   0,   0,   0,   0,   0,   0,   0,   0,   0,   0,   0,   0,\n",
       "          0,   0,   0,   0, 249, 253, 249,  64,   0,   0,   0,   0,   0,\n",
       "          0,   0],\n",
       "       [  0,   0,   0,   0,   0,   0,   0,   0,   0,   0,   0,   0,   0,\n",
       "          0,  46, 130, 183, 253, 253, 207,   2,   0,   0,   0,   0,   0,\n",
       "          0,   0],\n",
       "       [  0,   0,   0,   0,   0,   0,   0,   0,   0,   0,   0,   0,  39,\n",
       "        148, 229, 253, 253, 253, 250, 182,   0,   0,   0,   0,   0,   0,\n",
       "          0,   0],\n",
       "       [  0,   0,   0,   0,   0,   0,   0,   0,   0,   0,  24, 114, 221,\n",
       "        253, 253, 253, 253, 201,  78,   0,   0,   0,   0,   0,   0,   0,\n",
       "          0,   0],\n",
       "       [  0,   0,   0,   0,   0,   0,   0,   0,  23,  66, 213, 253, 253,\n",
       "        253, 253, 198,  81,   2,   0,   0,   0,   0,   0,   0,   0,   0,\n",
       "          0,   0],\n",
       "       [  0,   0,   0,   0,   0,   0,  18, 171, 219, 253, 253, 253, 253,\n",
       "        195,  80,   9,   0,   0,   0,   0,   0,   0,   0,   0,   0,   0,\n",
       "          0,   0],\n",
       "       [  0,   0,   0,   0,  55, 172, 226, 253, 253, 253, 253, 244, 133,\n",
       "         11,   0,   0,   0,   0,   0,   0,   0,   0,   0,   0,   0,   0,\n",
       "          0,   0],\n",
       "       [  0,   0,   0,   0, 136, 253, 253, 253, 212, 135, 132,  16,   0,\n",
       "          0,   0,   0,   0,   0,   0,   0,   0,   0,   0,   0,   0,   0,\n",
       "          0,   0],\n",
       "       [  0,   0,   0,   0,   0,   0,   0,   0,   0,   0,   0,   0,   0,\n",
       "          0,   0,   0,   0,   0,   0,   0,   0,   0,   0,   0,   0,   0,\n",
       "          0,   0],\n",
       "       [  0,   0,   0,   0,   0,   0,   0,   0,   0,   0,   0,   0,   0,\n",
       "          0,   0,   0,   0,   0,   0,   0,   0,   0,   0,   0,   0,   0,\n",
       "          0,   0],\n",
       "       [  0,   0,   0,   0,   0,   0,   0,   0,   0,   0,   0,   0,   0,\n",
       "          0,   0,   0,   0,   0,   0,   0,   0,   0,   0,   0,   0,   0,\n",
       "          0,   0]], dtype=uint8)"
      ]
     },
     "execution_count": 19,
     "metadata": {},
     "output_type": "execute_result"
    }
   ],
   "source": [
    "X_train[0]"
   ]
  },
  {
   "cell_type": "code",
   "execution_count": 20,
   "id": "5858b402",
   "metadata": {},
   "outputs": [
    {
     "data": {
      "text/plain": [
       "<matplotlib.image.AxesImage at 0x1a4608bac10>"
      ]
     },
     "execution_count": 20,
     "metadata": {},
     "output_type": "execute_result"
    },
    {
     "data": {
      "image/png": "[encoded data removed]",
      "text/plain": [
       "<Figure size 432x288 with 1 Axes>"
      ]
     },
     "metadata": {
      "needs_background": "light"
     },
     "output_type": "display_data"
    }
   ],
   "source": [
    "plt.imshow(X_train[0])"
   ]
  },
  {
   "cell_type": "markdown",
   "id": "4602559a",
   "metadata": {},
   "source": [
    "### Resclaing the images"
   ]
  },
  {
   "cell_type": "code",
   "execution_count": 21,
   "id": "e33e3985",
   "metadata": {},
   "outputs": [],
   "source": [
    "X_train = X_train/255"
   ]
  },
  {
   "cell_type": "code",
   "execution_count": 22,
   "id": "957ad1f7",
   "metadata": {},
   "outputs": [],
   "source": [
    "X_test = X_test/255"
   ]
  },
  {
   "cell_type": "markdown",
   "id": "6155d42e",
   "metadata": {},
   "source": [
    "### AutoEncoders Model creation"
   ]
  },
  {
   "cell_type": "code",
   "execution_count": 25,
   "id": "add7475d",
   "metadata": {},
   "outputs": [],
   "source": [
    "import tensorflow\n",
    "from tensorflow.keras.models import Sequential\n",
    "from tensorflow.keras.layers import Flatten, Dense, Reshape\n",
    "from tensorflow.keras.optimizers import SGD"
   ]
  },
  {
   "cell_type": "code",
   "execution_count": 26,
   "id": "3a96de8a",
   "metadata": {},
   "outputs": [],
   "source": [
    "encoder = Sequential()\n",
    "encoder.add(Flatten(input_shape=[28,28]))\n",
    "encoder.add(Dense(units=400, activation=\"relu\"))\n",
    "encoder.add(Dense(units=200, activation=\"relu\"))\n",
    "encoder.add(Dense(units=100, activation=\"relu\"))\n",
    "encoder.add(Dense(units=50, activation=\"relu\"))\n",
    "encoder.add(Dense(units=25, activation=\"relu\"))"
   ]
  },
  {
   "cell_type": "code",
   "execution_count": 27,
   "id": "9eba3b87",
   "metadata": {},
   "outputs": [],
   "source": [
    "decoder = Sequential()\n",
    "decoder.add(Dense(units= 50, activation=\"relu\", input_shape=[25]))\n",
    "decoder.add(Dense(units= 100, activation=\"relu\"))\n",
    "decoder.add(Dense(units= 200, activation=\"relu\"))\n",
    "decoder.add(Dense(units= 400, activation=\"relu\"))\n",
    "decoder.add(Dense(units= 784, activation=\"sigmoid\")) # Sigmoid activation function beacuse of binary_crossentropy\n",
    "decoder.add(Reshape([28,28]))"
   ]
  },
  {
   "cell_type": "code",
   "execution_count": 28,
   "id": "94cbfdc1",
   "metadata": {},
   "outputs": [],
   "source": [
    "autoencoder = Sequential([encoder, decoder])"
   ]
  },
  {
   "cell_type": "code",
   "execution_count": 32,
   "id": "11fe9cd1",
   "metadata": {},
   "outputs": [],
   "source": [
    "autoencoder.compile(optimizer=SGD(learning_rate=(1.5)), loss='binary_crossentropy',\n",
    "                                 metrics=['accuracy'])"
   ]
  },
  {
   "cell_type": "code",
   "execution_count": 37,
   "id": "b15b6a25",
   "metadata": {},
   "outputs": [
    {
     "name": "stdout",
     "output_type": "stream",
     "text": [
      "Epoch 1/50\n",
      "1875/1875 [==============================] - 23s 12ms/step - loss: 0.1219 - accuracy: 0.2510 - val_loss: 0.1209 - val_accuracy: 0.2529\n",
      "Epoch 2/50\n",
      "1875/1875 [==============================] - 23s 12ms/step - loss: 0.1198 - accuracy: 0.2534 - val_loss: 0.1193 - val_accuracy: 0.2487\n",
      "Epoch 3/50\n",
      "1875/1875 [==============================] - 23s 12ms/step - loss: 0.1179 - accuracy: 0.2560 - val_loss: 0.1150 - val_accuracy: 0.2544\n",
      "Epoch 4/50\n",
      "1875/1875 [==============================] - 23s 12ms/step - loss: 0.1160 - accuracy: 0.2582 - val_loss: 0.1145 - val_accuracy: 0.2522\n",
      "Epoch 5/50\n",
      "1875/1875 [==============================] - 23s 12ms/step - loss: 0.1144 - accuracy: 0.2599 - val_loss: 0.1117 - val_accuracy: 0.2578\n",
      "Epoch 6/50\n",
      "1875/1875 [==============================] - 23s 12ms/step - loss: 0.1128 - accuracy: 0.2622 - val_loss: 0.1125 - val_accuracy: 0.2508\n",
      "Epoch 7/50\n",
      "1875/1875 [==============================] - 23s 12ms/step - loss: 0.1114 - accuracy: 0.2646 - val_loss: 0.1103 - val_accuracy: 0.2526\n",
      "Epoch 8/50\n",
      "1875/1875 [==============================] - 23s 12ms/step - loss: 0.1101 - accuracy: 0.2662 - val_loss: 0.1111 - val_accuracy: 0.2593\n",
      "Epoch 9/50\n",
      "1875/1875 [==============================] - 22s 12ms/step - loss: 0.1090 - accuracy: 0.2685 - val_loss: 0.1092 - val_accuracy: 0.2551\n",
      "Epoch 10/50\n",
      "1875/1875 [==============================] - 23s 12ms/step - loss: 0.1081 - accuracy: 0.2699 - val_loss: 0.1066 - val_accuracy: 0.2652\n",
      "Epoch 11/50\n",
      "1875/1875 [==============================] - 23s 12ms/step - loss: 0.1072 - accuracy: 0.2716 - val_loss: 0.1124 - val_accuracy: 0.2574\n",
      "Epoch 12/50\n",
      "1875/1875 [==============================] - 23s 12ms/step - loss: 0.1064 - accuracy: 0.2727 - val_loss: 0.1080 - val_accuracy: 0.2709\n",
      "Epoch 13/50\n",
      "1875/1875 [==============================] - 23s 12ms/step - loss: 0.1057 - accuracy: 0.2734 - val_loss: 0.1052 - val_accuracy: 0.2704\n",
      "Epoch 14/50\n",
      "1875/1875 [==============================] - 23s 12ms/step - loss: 0.1051 - accuracy: 0.2748 - val_loss: 0.1088 - val_accuracy: 0.2686\n",
      "Epoch 15/50\n",
      "1875/1875 [==============================] - 23s 12ms/step - loss: 0.1044 - accuracy: 0.2759 - val_loss: 0.1062 - val_accuracy: 0.2775\n",
      "Epoch 16/50\n",
      "1875/1875 [==============================] - 23s 12ms/step - loss: 0.1039 - accuracy: 0.2769 - val_loss: 0.1041 - val_accuracy: 0.2804\n",
      "Epoch 17/50\n",
      "1875/1875 [==============================] - 23s 12ms/step - loss: 0.1034 - accuracy: 0.2778 - val_loss: 0.1043 - val_accuracy: 0.2770\n",
      "Epoch 18/50\n",
      "1875/1875 [==============================] - 23s 12ms/step - loss: 0.1029 - accuracy: 0.2787 - val_loss: 0.1047 - val_accuracy: 0.2745\n",
      "Epoch 19/50\n",
      "1875/1875 [==============================] - 24s 13ms/step - loss: 0.1024 - accuracy: 0.2795 - val_loss: 0.1035 - val_accuracy: 0.2697\n",
      "Epoch 20/50\n",
      "1875/1875 [==============================] - 24s 13ms/step - loss: 0.1018 - accuracy: 0.2803 - val_loss: 0.1059 - val_accuracy: 0.2659\n",
      "Epoch 21/50\n",
      "1875/1875 [==============================] - 23s 13ms/step - loss: 0.1012 - accuracy: 0.2815 - val_loss: 0.1015 - val_accuracy: 0.2774\n",
      "Epoch 22/50\n",
      "1875/1875 [==============================] - 24s 13ms/step - loss: 0.1008 - accuracy: 0.2826 - val_loss: 0.1033 - val_accuracy: 0.2747\n",
      "Epoch 23/50\n",
      "1875/1875 [==============================] - 24s 13ms/step - loss: 0.1004 - accuracy: 0.2829 - val_loss: 0.1008 - val_accuracy: 0.2777\n",
      "Epoch 24/50\n",
      "1875/1875 [==============================] - 24s 13ms/step - loss: 0.1000 - accuracy: 0.2844 - val_loss: 0.1010 - val_accuracy: 0.2713\n",
      "Epoch 25/50\n",
      "1875/1875 [==============================] - 24s 13ms/step - loss: 0.0996 - accuracy: 0.2847 - val_loss: 0.1039 - val_accuracy: 0.2748\n",
      "Epoch 26/50\n",
      "1875/1875 [==============================] - 24s 13ms/step - loss: 0.0992 - accuracy: 0.2858 - val_loss: 0.1014 - val_accuracy: 0.2748\n",
      "Epoch 27/50\n",
      "1875/1875 [==============================] - 24s 13ms/step - loss: 0.0987 - accuracy: 0.2869 - val_loss: 0.1015 - val_accuracy: 0.2816\n",
      "Epoch 28/50\n",
      "1875/1875 [==============================] - 24s 13ms/step - loss: 0.0985 - accuracy: 0.2873 - val_loss: 0.1014 - val_accuracy: 0.2743\n",
      "Epoch 29/50\n",
      "1875/1875 [==============================] - 24s 13ms/step - loss: 0.0981 - accuracy: 0.2883 - val_loss: 0.0998 - val_accuracy: 0.2797\n",
      "Epoch 30/50\n",
      "1875/1875 [==============================] - 24s 13ms/step - loss: 0.0977 - accuracy: 0.2881 - val_loss: 0.0996 - val_accuracy: 0.2776\n",
      "Epoch 31/50\n",
      "1875/1875 [==============================] - 24s 13ms/step - loss: 0.0975 - accuracy: 0.2885 - val_loss: 0.1008 - val_accuracy: 0.2757\n",
      "Epoch 32/50\n",
      "1875/1875 [==============================] - 24s 13ms/step - loss: 0.0971 - accuracy: 0.2896 - val_loss: 0.1007 - val_accuracy: 0.2793\n",
      "Epoch 33/50\n",
      "1875/1875 [==============================] - 24s 13ms/step - loss: 0.0968 - accuracy: 0.2900 - val_loss: 0.0991 - val_accuracy: 0.2839\n",
      "Epoch 34/50\n",
      "1875/1875 [==============================] - 24s 13ms/step - loss: 0.0966 - accuracy: 0.2901 - val_loss: 0.0986 - val_accuracy: 0.2842\n",
      "Epoch 35/50\n",
      "1875/1875 [==============================] - 23s 12ms/step - loss: 0.0963 - accuracy: 0.2909 - val_loss: 0.0982 - val_accuracy: 0.2831\n",
      "Epoch 36/50\n",
      "1875/1875 [==============================] - 24s 13ms/step - loss: 0.0960 - accuracy: 0.2909 - val_loss: 0.1010 - val_accuracy: 0.2758\n",
      "Epoch 37/50\n",
      "1875/1875 [==============================] - 26s 14ms/step - loss: 0.0959 - accuracy: 0.2913 - val_loss: 0.1007 - val_accuracy: 0.2809\n",
      "Epoch 38/50\n",
      "1875/1875 [==============================] - 28s 15ms/step - loss: 0.0956 - accuracy: 0.2923 - val_loss: 0.0988 - val_accuracy: 0.2798\n",
      "Epoch 39/50\n",
      "1875/1875 [==============================] - 28s 15ms/step - loss: 0.0953 - accuracy: 0.2919 - val_loss: 0.0988 - val_accuracy: 0.2783\n",
      "Epoch 40/50\n",
      "1875/1875 [==============================] - 31s 16ms/step - loss: 0.0952 - accuracy: 0.2925 - val_loss: 0.0985 - val_accuracy: 0.2829\n",
      "Epoch 41/50\n",
      "1875/1875 [==============================] - 31s 17ms/step - loss: 0.0949 - accuracy: 0.2935 - val_loss: 0.0973 - val_accuracy: 0.2816\n",
      "Epoch 42/50\n",
      "1875/1875 [==============================] - 27s 14ms/step - loss: 0.0947 - accuracy: 0.2933 - val_loss: 0.0972 - val_accuracy: 0.2849\n",
      "Epoch 43/50\n",
      "1875/1875 [==============================] - 25s 13ms/step - loss: 0.0944 - accuracy: 0.2938 - val_loss: 0.0976 - val_accuracy: 0.2756\n",
      "Epoch 44/50\n",
      "1875/1875 [==============================] - 25s 13ms/step - loss: 0.0944 - accuracy: 0.2941 - val_loss: 0.0971 - val_accuracy: 0.2869\n",
      "Epoch 45/50\n",
      "1875/1875 [==============================] - 24s 13ms/step - loss: 0.0940 - accuracy: 0.2945 - val_loss: 0.0971 - val_accuracy: 0.2819\n",
      "Epoch 46/50\n",
      "1875/1875 [==============================] - 25s 13ms/step - loss: 0.0941 - accuracy: 0.2944 - val_loss: 0.0964 - val_accuracy: 0.2899\n",
      "Epoch 47/50\n",
      "1875/1875 [==============================] - 25s 13ms/step - loss: 0.0937 - accuracy: 0.2946 - val_loss: 0.0953 - val_accuracy: 0.2873\n",
      "Epoch 48/50\n",
      "1875/1875 [==============================] - 25s 13ms/step - loss: 0.0935 - accuracy: 0.2955 - val_loss: 0.0965 - val_accuracy: 0.2875\n",
      "Epoch 49/50\n",
      "1875/1875 [==============================] - 25s 13ms/step - loss: 0.0933 - accuracy: 0.2954 - val_loss: 0.0949 - val_accuracy: 0.2900\n",
      "Epoch 50/50\n",
      "1875/1875 [==============================] - 25s 13ms/step - loss: 0.0932 - accuracy: 0.2963 - val_loss: 0.0956 - val_accuracy: 0.2810\n"
     ]
    },
    {
     "data": {
      "text/plain": [
       "<keras.callbacks.History at 0x1a45efc4a30>"
      ]
     },
     "execution_count": 37,
     "metadata": {},
     "output_type": "execute_result"
    }
   ],
   "source": [
    "autoencoder.fit(X_train, X_train, epochs=50, validation_data=(X_test, X_test))"
   ]
  },
  {
   "cell_type": "code",
   "execution_count": 38,
   "id": "dd8c7540",
   "metadata": {},
   "outputs": [
    {
     "name": "stdout",
     "output_type": "stream",
     "text": [
      "1/1 [==============================] - 0s 44ms/step\n"
     ]
    }
   ],
   "source": [
    "prediction = autoencoder.predict(X_test[:10])"
   ]
  },
  {
   "cell_type": "code",
   "execution_count": 40,
   "id": "a828369e",
   "metadata": {},
   "outputs": [
    {
     "name": "stdout",
     "output_type": "stream",
     "text": [
      "Before AutoEncoding\n"
     ]
    },
    {
     "data": {
      "image/png": "[encoded data removed]",
      "text/plain": [
       "<Figure size 432x288 with 1 Axes>"
      ]
     },
     "metadata": {
      "needs_background": "light"
     },
     "output_type": "display_data"
    },
    {
     "name": "stdout",
     "output_type": "stream",
     "text": [
      "\n",
      "After AutoEncoding\n"
     ]
    },
    {
     "data": {
      "text/plain": [
       "<matplotlib.image.AxesImage at 0x1a45f1dedc0>"
      ]
     },
     "execution_count": 40,
     "metadata": {},
     "output_type": "execute_result"
    },
    {
     "data": {
      "image/png": "[encoded data removed]",
      "text/plain": [
       "<Figure size 432x288 with 1 Axes>"
      ]
     },
     "metadata": {
      "needs_background": "light"
     },
     "output_type": "display_data"
    }
   ],
   "source": [
    "print(\"Before AutoEncoding\")\n",
    "plt.imshow(X_train[1])\n",
    "plt.show()\n",
    "\n",
    "print()\n",
    "print(\"After AutoEncoding\")\n",
    "plt.imshow(prediction[1])"
   ]
  },
  {
   "cell_type": "code",
   "execution_count": null,
   "id": "ef7c9137",
   "metadata": {},
   "outputs": [],
   "source": []
  }
 ],
 "metadata": {
  "kernelspec": {
   "display_name": "Python 3 (ipykernel)",
   "language": "python",
   "name": "python3"
  },
  "language_info": {
   "codemirror_mode": {
    "name": "ipython",
    "version": 3
   },
   "file_extension": ".py",
   "mimetype": "text/x-python",
   "name": "python",
   "nbconvert_exporter": "python",
   "pygments_lexer": "ipython3",
   "version": "3.9.7"
  }
 },
 "nbformat": 4,
 "nbformat_minor": 5
}
